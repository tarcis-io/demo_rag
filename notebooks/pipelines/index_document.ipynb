{
 "cells": [
  {
   "cell_type": "markdown",
   "id": "5e3c3bee-fb47-4535-90a1-edd977b6457b",
   "metadata": {},
   "source": [
    "### **index_document.ipynb**\n",
    "### **Index a PDF document in Elasticsearch**\n",
    "\n",
    "* ##### 01 - Install packages\n",
    "* ##### 02 - Import packages\n",
    "* ##### 03 - Create pipeline\n",
    "* ##### 04 - Create pipeline yaml\n",
    "* ##### 05 - Create pipeline run"
   ]
  },
  {
   "cell_type": "markdown",
   "id": "28f56138-2f6e-46aa-bd0b-f1a30da61bcf",
   "metadata": {},
   "source": [
    "### 01 - Install packages"
   ]
  },
  {
   "cell_type": "code",
   "execution_count": null,
   "id": "ec1b03c9-681f-4d1e-8874-afc0a2669633",
   "metadata": {
    "tags": []
   },
   "outputs": [],
   "source": [
    "from sys import executable"
   ]
  },
  {
   "cell_type": "code",
   "execution_count": null,
   "id": "e9de98f4-7379-4d99-a482-6d5f65ab56b9",
   "metadata": {
    "tags": []
   },
   "outputs": [],
   "source": [
    "!{ executable } -m pip install --upgrade kfp[kubernetes]"
   ]
  },
  {
   "cell_type": "markdown",
   "id": "e6fcb912-1ff4-488c-b8b7-624958a4b8ba",
   "metadata": {},
   "source": [
    "### 02 - Import packages"
   ]
  },
  {
   "cell_type": "code",
   "execution_count": null,
   "id": "dfc281ec-e7be-4a06-bef6-eefd1ddff6f5",
   "metadata": {
    "tags": []
   },
   "outputs": [],
   "source": [
    "from kfp          import kubernetes\n",
    "from kfp.client   import Client\n",
    "from kfp.compiler import Compiler\n",
    "from kfp.dsl      import pipeline\n",
    "from os           import getcwd, pardir, path\n",
    "from sys          import path as sys_path\n",
    "\n",
    "sys_path.append(path.dirname(getcwd()))\n",
    "\n",
    "from components.download_document import download_document\n",
    "from components.index_document    import index_document"
   ]
  },
  {
   "cell_type": "markdown",
   "id": "d8fd68a6-b33d-4d3c-b94e-9fb6743abb40",
   "metadata": {},
   "source": [
    "### 03 - Create pipeline"
   ]
  },
  {
   "cell_type": "code",
   "execution_count": null,
   "id": "d1963350-ae1e-47f6-b6f2-e61b5228625c",
   "metadata": {
    "tags": []
   },
   "outputs": [],
   "source": [
    "pipeline_name        = 'index_document'\n",
    "pipeline_description = 'Index a PDF document in Elasticsearch'"
   ]
  },
  {
   "cell_type": "code",
   "execution_count": null,
   "id": "e281d530-bd65-42b8-b4f7-08ae7ef0506a",
   "metadata": {
    "tags": []
   },
   "outputs": [],
   "source": [
    "@pipeline(\n",
    "    name        = pipeline_name,\n",
    "    description = pipeline_description\n",
    ")\n",
    "def pipeline_func(\n",
    "    pvc_name                           : str,\n",
    "    pvc_storage_class                  : str,\n",
    "    pvc_access_modes                   : list,\n",
    "    pvc_size                           : str,\n",
    "    s3_service_name                    : str,\n",
    "    s3_endpoint_url                    : str,\n",
    "    s3_access_key_id                   : str,\n",
    "    s3_secret_access_key               : str,\n",
    "    s3_region                          : str,\n",
    "    s3_bucket                          : str,\n",
    "    s3_file                            : str,\n",
    "    elasticsearch_host                 : str,\n",
    "    elasticsearch_username             : str,\n",
    "    elasticsearch_password             : str,\n",
    "    elasticsearch_document_index       : str,\n",
    "    tensorflow_hub_embedding_model_url : str\n",
    ") -> None:\n",
    "\n",
    "    # TASK Create PVC\n",
    "\n",
    "    pvc_directory = path.join('/', 'pipeline', pipeline_name)\n",
    "\n",
    "    create_pvc_task = kubernetes.CreatePVC(\n",
    "        pvc_name           = pvc_name,\n",
    "        storage_class_name = pvc_storage_class,\n",
    "        access_modes       = pvc_access_modes,\n",
    "        size               = pvc_size\n",
    "    )\n",
    "\n",
    "    # TASK Download document\n",
    "\n",
    "    download_document_task = download_document(\n",
    "        s3_service_name      = s3_service_name,\n",
    "        s3_endpoint_url      = s3_endpoint_url,\n",
    "        s3_access_key_id     = s3_access_key_id,\n",
    "        s3_secret_access_key = s3_secret_access_key,\n",
    "        s3_region            = s3_region,\n",
    "        s3_bucket            = s3_bucket,\n",
    "        s3_file              = s3_file,\n",
    "        pvc_directory        = pvc_directory\n",
    "    )\n",
    "\n",
    "    download_document_task.after(create_pvc_task)\n",
    "\n",
    "    kubernetes.mount_pvc(\n",
    "        task       = download_document_task,\n",
    "        pvc_name   = pvc_name,\n",
    "        mount_path = pvc_directory\n",
    "    )\n",
    "\n",
    "    pvc_file = download_document_task.output\n",
    "\n",
    "    # TASK Index document\n",
    "\n",
    "    index_document_task = index_document(\n",
    "        elasticsearch_host                 = elasticsearch_host,\n",
    "        elasticsearch_username             = elasticsearch_username,\n",
    "        elasticsearch_password             = elasticsearch_password,\n",
    "        elasticsearch_document_index       = elasticsearch_document_index,\n",
    "        tensorflow_hub_embedding_model_url = tensorflow_hub_embedding_model_url,\n",
    "        pvc_file                           = pvc_file\n",
    "    )\n",
    "\n",
    "    index_document_task.after(download_document_task)\n",
    "\n",
    "    kubernetes.mount_pvc(\n",
    "        task       = index_document_task,\n",
    "        pvc_name   = pvc_name,\n",
    "        mount_path = pvc_directory\n",
    "    )"
   ]
  },
  {
   "cell_type": "markdown",
   "id": "b094529f-c35f-4252-aa17-74b42abeb8eb",
   "metadata": {},
   "source": [
    "### 04 - Create pipeline yaml"
   ]
  },
  {
   "cell_type": "code",
   "execution_count": null,
   "id": "1d09cff8-6bb3-4d01-906c-7f4aa24454b5",
   "metadata": {
    "tags": []
   },
   "outputs": [],
   "source": [
    "pipeline_yaml = path.join(pardir, pardir, 'app_pipeline', 'pipeline_yaml', f'{ pipeline_name }.yaml')"
   ]
  },
  {
   "cell_type": "code",
   "execution_count": null,
   "id": "795bb0de-85c8-4d78-a09f-4aaad1aa0d8b",
   "metadata": {
    "tags": []
   },
   "outputs": [],
   "source": [
    "Compiler().compile(\n",
    "    pipeline_func = pipeline_func,\n",
    "    package_path  = pipeline_yaml\n",
    ")"
   ]
  },
  {
   "cell_type": "markdown",
   "id": "09bf4845-2742-46fe-8d52-d2042bfd3fed",
   "metadata": {},
   "source": [
    "### 05 - Create pipeline run"
   ]
  },
  {
   "cell_type": "code",
   "execution_count": null,
   "id": "e50ba2dc-d205-4e1d-ae5f-358f11308ca8",
   "metadata": {
    "tags": []
   },
   "outputs": [],
   "source": [
    "pipeline_arguments = {\n",
    "    'pvc_name'                           : '<pvc_name>',\n",
    "    'pvc_storage_class'                  : '<pvc_storage_class>',\n",
    "    'pvc_access_modes'                   : ['<pvc_access_modes>'],\n",
    "    'pvc_size'                           : '<pvc_size>',\n",
    "    's3_service_name'                    : '<s3_service_name>',\n",
    "    's3_endpoint_url'                    : '<s3_endpoint_url>',\n",
    "    's3_access_key_id'                   : '<s3_access_key_id>',\n",
    "    's3_secret_access_key'               : '<s3_secret_access_key>',\n",
    "    's3_region'                          : '<s3_region>',\n",
    "    's3_bucket'                          : '<s3_bucket>',\n",
    "    's3_file'                            : '<s3_file>',\n",
    "    'elasticsearch_host'                 : '<elasticsearch_host>',\n",
    "    'elasticsearch_username'             : '<elasticsearch_username>',\n",
    "    'elasticsearch_password'             : '<elasticsearch_password>',\n",
    "    'elasticsearch_document_index'       : '<elasticsearch_document_index>',\n",
    "    'tensorflow_hub_embedding_model_url' : '<tensorflow_hub_embedding_model_url>'\n",
    "}"
   ]
  },
  {
   "cell_type": "code",
   "execution_count": null,
   "id": "e62d4f7b-a9a8-4474-8c08-df1f5fc60143",
   "metadata": {
    "tags": []
   },
   "outputs": [],
   "source": [
    "kubeflow_host = '<kubeflow_host>'"
   ]
  },
  {
   "cell_type": "code",
   "execution_count": null,
   "id": "11c0d7b4-cb68-41c2-8a49-84b36d4a0251",
   "metadata": {},
   "outputs": [],
   "source": [
    "Client(host = kubeflow_host).create_run_from_pipeline_package(\n",
    "    pipeline_file = pipeline_yaml,\n",
    "    arguments     = pipeline_arguments\n",
    ")"
   ]
  }
 ],
 "metadata": {
  "kernelspec": {
   "display_name": "Python 3.9",
   "language": "python",
   "name": "python3"
  },
  "language_info": {
   "codemirror_mode": {
    "name": "ipython",
    "version": 3
   },
   "file_extension": ".py",
   "mimetype": "text/x-python",
   "name": "python",
   "nbconvert_exporter": "python",
   "pygments_lexer": "ipython3",
   "version": "3.9.16"
  }
 },
 "nbformat": 4,
 "nbformat_minor": 5
}
